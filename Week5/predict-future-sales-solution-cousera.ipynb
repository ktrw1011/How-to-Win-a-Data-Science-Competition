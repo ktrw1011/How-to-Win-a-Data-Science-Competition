{
 "cells": [
  {
   "cell_type": "code",
   "execution_count": 1,
   "metadata": {
    "_cell_guid": "b1076dfc-b9ad-4769-8c92-a6c4dae69d19",
    "_uuid": "8f2839f25d086af736a60e9eeb907d3b93b6e0e5"
   },
   "outputs": [],
   "source": [
    "import numpy as np\n",
    "import pandas as pd\n",
    "\n",
    "from tqdm import tqdm\n",
    "\n",
    "from xgboost import XGBRegressor\n",
    "import lightgbm as lgb\n",
    "from lightgbm import LGBMRegressor\n",
    "\n",
    "from sklearn.linear_model import LinearRegression\n",
    "from sklearn.metrics import mean_squared_error\n",
    "\n",
    "import matplotlib.pyplot as plt\n",
    "import seaborn as sns\n",
    "%matplotlib inline\n",
    "\n",
    "import gc"
   ]
  },
  {
   "cell_type": "code",
   "execution_count": 2,
   "metadata": {
    "_uuid": "56c5a382d56651dad224eb48993d16a94763eda6"
   },
   "outputs": [],
   "source": [
    "def rmse(y_true, y_pred):\n",
    "    return np.sqrt(mean_squared_error(y_true, y_pred))"
   ]
  },
  {
   "cell_type": "code",
   "execution_count": 3,
   "metadata": {
    "_uuid": "b2961d8c9440b1e51c5341035e7e30a107028331"
   },
   "outputs": [],
   "source": [
    "def downcast_dtypes(df):\n",
    "    float_cols = [c for c in df if df[c].dtype == \"float64\"]\n",
    "    int_cols =   [c for c in df if df[c].dtype in [\"int64\", \"int32\"]]\n",
    "    df[float_cols] = df[float_cols].astype(np.float32)\n",
    "    df[int_cols]   = df[int_cols].astype(np.int16)\n",
    "    return df"
   ]
  },
  {
   "cell_type": "code",
   "execution_count": 4,
   "metadata": {
    "_cell_guid": "79c7e3d0-c299-4dcb-8224-4455121ee9b0",
    "_uuid": "d629ff2d2480ee46fbb7e2d37f6b5fab8052498a"
   },
   "outputs": [],
   "source": [
    "sales_train = pd.read_csv('../input/sales_train.csv')\n",
    "test = pd.read_csv('../input/test.csv').set_index('ID', drop=True)\n",
    "items = pd.read_csv('../input/items.csv')\n",
    "shops = pd.read_csv('../input/shops.csv')\n",
    "item_categories = pd.read_csv('../input/item_categories.csv')"
   ]
  },
  {
   "cell_type": "code",
   "execution_count": 5,
   "metadata": {
    "_uuid": "d8a282a12b4a08f56f8c264098eeaee1dda4c7a7"
   },
   "outputs": [],
   "source": [
    "test['date_block_num'] = 34"
   ]
  },
  {
   "cell_type": "markdown",
   "metadata": {
    "_uuid": "34880bb56241c578f4d7e9b8606c20500d02c697"
   },
   "source": [
    "# Outline\n",
    "1. EDA\n",
    "2. Preprocesssing\n",
    "    - 2.1 Data Aggregation\n",
    "    - 2.2 Add Category data and Item data and Shop data\n",
    "3. FeatureEngineering\n",
    "    - 3.1 item_price vs item_price_global\n",
    "    - 3.2 Target Encoding\n",
    "    - 3.3 Month Feature\n",
    "    - 3.4 Item first salse \n",
    "    - 3.5 Take Lag \n",
    "    - 3.6 Past N month sales volume\n",
    "4. Train Section\n",
    "    - 4.1 Validation\n",
    "    - 4.2 Prediction\n",
    "5. Conclusion\n",
    "\n",
    "\n",
    "*I am not an English speaker. I think there is a misspelling and incorrect grammer. I apologize in advance.*"
   ]
  },
  {
   "cell_type": "markdown",
   "metadata": {
    "_uuid": "47b8927dc3280ee51522da833eba4fcb0622dec3"
   },
   "source": [
    "## **1. EDA**\n",
    "Exclude obvious outliers\n",
    "- item_cnt_day > 500\n",
    "- item_price > 50000"
   ]
  },
  {
   "cell_type": "code",
   "execution_count": 6,
   "metadata": {
    "_uuid": "b78306fa9859607dc2585c3504c675e45dfa43a7"
   },
   "outputs": [
    {
     "name": "stdout",
     "output_type": "stream",
     "text": [
      "Sale volumne outliers: [ 8057 20949  9242 19437  3731 11373  9249  9248]\n"
     ]
    },
    {
     "data": {
      "image/png": "[encoded data removed]",
      "text/plain": [
       "<Figure size 720x288 with 1 Axes>"
      ]
     },
     "metadata": {},
     "output_type": "display_data"
    }
   ],
   "source": [
    "plt.figure(figsize=(10, 4))\n",
    "plt.xlim(-100, 3000)\n",
    "sns.boxplot(x=sales_train['item_cnt_day'])\n",
    "print('Sale volumne outliers:', sales_train['item_id'][sales_train['item_cnt_day']>500].unique())"
   ]
  },
  {
   "cell_type": "code",
   "execution_count": 7,
   "metadata": {
    "_uuid": "428f49f6a1150ba3a28a7e4a48dca9921c60497c"
   },
   "outputs": [
    {
     "name": "stdout",
     "output_type": "stream",
     "text": [
      "Item price outliers: [11365  6066 13199]\n"
     ]
    },
    {
     "data": {
      "image/png": "[encoded data removed]",
      "text/plain": [
       "<Figure size 720x288 with 1 Axes>"
      ]
     },
     "metadata": {},
     "output_type": "display_data"
    }
   ],
   "source": [
    "plt.figure(figsize=(10,4))\n",
    "plt.xlim(sales_train['item_price'].min(), sales_train['item_price'].max())\n",
    "sns.boxplot(x=sales_train['item_price'])\n",
    "print('Item price outliers:', sales_train['item_id'][sales_train['item_price']>50000].unique())"
   ]
  },
  {
   "cell_type": "code",
   "execution_count": 8,
   "metadata": {
    "_uuid": "c6c37cc296f38856361619f3313b4eabd03df6d8"
   },
   "outputs": [],
   "source": [
    "sales_train = sales_train[sales_train.item_cnt_day < 500]\n",
    "sales_train = sales_train[sales_train.item_price < 50000]"
   ]
  },
  {
   "cell_type": "markdown",
   "metadata": {
    "_uuid": "d3a6bcb928be93bf82300964cea3be664b60e023"
   },
   "source": [
    "item_cnt_day has a negative value. This is the returned item, and keep it as a factor affecting the total value"
   ]
  },
  {
   "cell_type": "code",
   "execution_count": 9,
   "metadata": {
    "_uuid": "73d17d289da0b5156347bdf80f1618dc21a73e17"
   },
   "outputs": [
    {
     "data": {
      "text/html": [
       "<div>\n",
       "<style scoped>\n",
       "    .dataframe tbody tr th:only-of-type {\n",
       "        vertical-align: middle;\n",
       "    }\n",
       "\n",
       "    .dataframe tbody tr th {\n",
       "        vertical-align: top;\n",
       "    }\n",
       "\n",
       "    .dataframe thead th {\n",
       "        text-align: right;\n",
       "    }\n",
       "</style>\n",
       "<table border=\"1\" class=\"dataframe\">\n",
       "  <thead>\n",
       "    <tr style=\"text-align: right;\">\n",
       "      <th></th>\n",
       "      <th>date</th>\n",
       "      <th>date_block_num</th>\n",
       "      <th>shop_id</th>\n",
       "      <th>item_id</th>\n",
       "      <th>item_price</th>\n",
       "      <th>item_cnt_day</th>\n",
       "    </tr>\n",
       "  </thead>\n",
       "  <tbody>\n",
       "    <tr>\n",
       "      <th>2</th>\n",
       "      <td>05.01.2013</td>\n",
       "      <td>0</td>\n",
       "      <td>25</td>\n",
       "      <td>2552</td>\n",
       "      <td>899.0</td>\n",
       "      <td>-1.0</td>\n",
       "    </tr>\n",
       "    <tr>\n",
       "      <th>148</th>\n",
       "      <td>23.01.2013</td>\n",
       "      <td>0</td>\n",
       "      <td>25</td>\n",
       "      <td>2321</td>\n",
       "      <td>999.0</td>\n",
       "      <td>-1.0</td>\n",
       "    </tr>\n",
       "    <tr>\n",
       "      <th>175</th>\n",
       "      <td>07.01.2013</td>\n",
       "      <td>0</td>\n",
       "      <td>25</td>\n",
       "      <td>2199</td>\n",
       "      <td>1449.0</td>\n",
       "      <td>-1.0</td>\n",
       "    </tr>\n",
       "    <tr>\n",
       "      <th>807</th>\n",
       "      <td>02.01.2013</td>\n",
       "      <td>0</td>\n",
       "      <td>25</td>\n",
       "      <td>2330</td>\n",
       "      <td>599.0</td>\n",
       "      <td>-1.0</td>\n",
       "    </tr>\n",
       "    <tr>\n",
       "      <th>1041</th>\n",
       "      <td>13.01.2013</td>\n",
       "      <td>0</td>\n",
       "      <td>25</td>\n",
       "      <td>5034</td>\n",
       "      <td>1989.0</td>\n",
       "      <td>-1.0</td>\n",
       "    </tr>\n",
       "  </tbody>\n",
       "</table>\n",
       "</div>"
      ],
      "text/plain": [
       "            date  date_block_num      ...       item_price  item_cnt_day\n",
       "2     05.01.2013               0      ...            899.0          -1.0\n",
       "148   23.01.2013               0      ...            999.0          -1.0\n",
       "175   07.01.2013               0      ...           1449.0          -1.0\n",
       "807   02.01.2013               0      ...            599.0          -1.0\n",
       "1041  13.01.2013               0      ...           1989.0          -1.0\n",
       "\n",
       "[5 rows x 6 columns]"
      ]
     },
     "execution_count": 9,
     "metadata": {},
     "output_type": "execute_result"
    }
   ],
   "source": [
    "sales_train[sales_train.item_cnt_day < 0].head()"
   ]
  },
  {
   "cell_type": "markdown",
   "metadata": {
    "_uuid": "87946dc6e28211363056a9cba00d00f0a53c30a4"
   },
   "source": [
    "Somel shops are considered to be duplicates of shop name. So merge one shop"
   ]
  },
  {
   "cell_type": "code",
   "execution_count": 10,
   "metadata": {
    "_uuid": "3ec307357fa536abcd95f93a4b0c9528f3f262c7"
   },
   "outputs": [
    {
     "data": {
      "text/html": [
       "<div>\n",
       "<style scoped>\n",
       "    .dataframe tbody tr th:only-of-type {\n",
       "        vertical-align: middle;\n",
       "    }\n",
       "\n",
       "    .dataframe tbody tr th {\n",
       "        vertical-align: top;\n",
       "    }\n",
       "\n",
       "    .dataframe thead th {\n",
       "        text-align: right;\n",
       "    }\n",
       "</style>\n",
       "<table border=\"1\" class=\"dataframe\">\n",
       "  <thead>\n",
       "    <tr style=\"text-align: right;\">\n",
       "      <th></th>\n",
       "      <th>shop_name</th>\n",
       "      <th>shop_id</th>\n",
       "    </tr>\n",
       "  </thead>\n",
       "  <tbody>\n",
       "    <tr>\n",
       "      <th>0</th>\n",
       "      <td>!Якутск Орджоникидзе, 56 фран</td>\n",
       "      <td>0</td>\n",
       "    </tr>\n",
       "    <tr>\n",
       "      <th>1</th>\n",
       "      <td>!Якутск ТЦ \"Центральный\" фран</td>\n",
       "      <td>1</td>\n",
       "    </tr>\n",
       "    <tr>\n",
       "      <th>10</th>\n",
       "      <td>Жуковский ул. Чкалова 39м?</td>\n",
       "      <td>10</td>\n",
       "    </tr>\n",
       "    <tr>\n",
       "      <th>11</th>\n",
       "      <td>Жуковский ул. Чкалова 39м²</td>\n",
       "      <td>11</td>\n",
       "    </tr>\n",
       "    <tr>\n",
       "      <th>57</th>\n",
       "      <td>Якутск Орджоникидзе, 56</td>\n",
       "      <td>57</td>\n",
       "    </tr>\n",
       "    <tr>\n",
       "      <th>58</th>\n",
       "      <td>Якутск ТЦ \"Центральный\"</td>\n",
       "      <td>58</td>\n",
       "    </tr>\n",
       "  </tbody>\n",
       "</table>\n",
       "</div>"
      ],
      "text/plain": [
       "                        shop_name  shop_id\n",
       "0   !Якутск Орджоникидзе, 56 фран        0\n",
       "1   !Якутск ТЦ \"Центральный\" фран        1\n",
       "10     Жуковский ул. Чкалова 39м?       10\n",
       "11     Жуковский ул. Чкалова 39м²       11\n",
       "57        Якутск Орджоникидзе, 56       57\n",
       "58        Якутск ТЦ \"Центральный\"       58"
      ]
     },
     "execution_count": 10,
     "metadata": {},
     "output_type": "execute_result"
    }
   ],
   "source": [
    "shops[shops.shop_id.isin([0, 57, 1, 58, 10, 11])]"
   ]
  },
  {
   "cell_type": "code",
   "execution_count": 11,
   "metadata": {
    "_uuid": "3e939845a05b763a360480df9642217d194ec6d4"
   },
   "outputs": [],
   "source": [
    "# Якутск Орджоникидзе, 56\n",
    "sales_train.loc[sales_train.shop_id == 0, 'shop_id'] = 57\n",
    "test.loc[test.shop_id == 0, 'shop_id'] = 57\n",
    "# Якутск ТЦ \"Центральный\"\n",
    "sales_train.loc[sales_train.shop_id == 1, 'shop_id'] = 58\n",
    "test.loc[test.shop_id == 1, 'shop_id'] = 58\n",
    "# Жуковский ул. Чкалова 39м²\n",
    "sales_train.loc[sales_train.shop_id == 10, 'shop_id'] = 11\n",
    "test.loc[test.shop_id == 10, 'shop_id'] = 11"
   ]
  },
  {
   "cell_type": "markdown",
   "metadata": {
    "_uuid": "145265902a87643f011b8dbce69fba697b029530"
   },
   "source": [
    "## **2. Preprocessing**\n",
    "\n",
    "### 2.1. Data Aggregation\n",
    "Aggregate sales_train on a monthly basis\n",
    "\n",
    "- Target is clipped in the range(0, 20) (indicated Competition Infomation) , So clip the aggregate data in the same range\n",
    "- Create a combination of all date_block_num and shop_id and item_id in sales_train for Traning data"
   ]
  },
  {
   "cell_type": "code",
   "execution_count": 12,
   "metadata": {
    "_uuid": "a5765b38dba9c47788355ba9e1502897d4348ea0"
   },
   "outputs": [],
   "source": [
    "sales_monthly = sales_train.groupby(['date_block_num', 'shop_id', 'item_id'], as_index=False)\n",
    "sales_monthly =sales_monthly.agg({'item_cnt_day':['sum']})\n",
    "sales_monthly.columns = ['date_block_num', 'shop_id','item_id' ,'item_cnt_month']"
   ]
  },
  {
   "cell_type": "code",
   "execution_count": 13,
   "metadata": {
    "_uuid": "349978401f3d4a19da76fa3543728464fa454fdf"
   },
   "outputs": [],
   "source": [
    "sales_monthly['item_cnt_month'] = sales_monthly['item_cnt_month'].clip(0,20)"
   ]
  },
  {
   "cell_type": "code",
   "execution_count": 14,
   "metadata": {
    "_uuid": "963dd7f3f976589af8371c236da9382be338348e"
   },
   "outputs": [],
   "source": [
    "from itertools import product\n",
    "empty_df = []\n",
    "cols = ['date_block_num','shop_id','item_id']\n",
    "for i in range(34):\n",
    "    sales = sales_monthly[sales_monthly.date_block_num == i]\n",
    "    empty_df.append(np.array(list(product([i], sales.shop_id.unique(), sales.item_id.unique())), dtype='int16'))\n",
    "    \n",
    "\n",
    "empty_df = pd.DataFrame(np.vstack(empty_df), columns=cols)\n",
    "empty_df['date_block_num'] = empty_df['date_block_num'].astype(np.int8)\n",
    "empty_df['shop_id'] = empty_df['shop_id'].astype(np.int8)\n",
    "empty_df['item_id'] = empty_df['item_id'].astype(np.int16)\n",
    "empty_df.sort_values(cols,inplace=True)"
   ]
  },
  {
   "cell_type": "code",
   "execution_count": 15,
   "metadata": {
    "_uuid": "91adcc6d00088815fd97cd9757ef7008f201025e"
   },
   "outputs": [],
   "source": [
    "sales_monthly = pd.merge(empty_df, sales_monthly, on=['date_block_num', 'shop_id', 'item_id'], how='left')"
   ]
  },
  {
   "cell_type": "code",
   "execution_count": 16,
   "metadata": {
    "_uuid": "3f353c9d56710c7b70e0f3f6cd2bd9aeff87057a"
   },
   "outputs": [
    {
     "data": {
      "text/plain": [
       "42"
      ]
     },
     "execution_count": 16,
     "metadata": {},
     "output_type": "execute_result"
    }
   ],
   "source": [
    "del empty_df\n",
    "gc.collect()"
   ]
  },
  {
   "cell_type": "markdown",
   "metadata": {
    "_uuid": "3834c76a5384f37e139d8e827ea96d99fd1c3285"
   },
   "source": [
    "### 2.2 Add Category data and Item data and Shop data\n",
    "\n",
    "- Add category of city from shop_name with LabelEncoding\n",
    "- item_categories has data with (Main type - sub_type). Split string and Create a new ID with LabelEncoding, If there is no sub type, replace it with Main type\n",
    "- Find the global mean of item_price (average in all transactions group by item_id ) and use it as the standerd value of item_price. Replace the new item with the average of category id"
   ]
  },
  {
   "cell_type": "code",
   "execution_count": 17,
   "metadata": {
    "_uuid": "77bbc2f39733a3aa450c9d6ec084fd8658ee4b89"
   },
   "outputs": [],
   "source": [
    "shops.loc[shops.shop_name == 'Сергиев Посад ТЦ \"7Я\"', 'shop_name'] = 'СергиевПосад ТЦ \"7Я\"'\n",
    "shops['city'] = shops['shop_name'].str.split(' ').map(lambda x: x[0])\n",
    "shops.loc[shops.city == '!Якутск', 'city'] = 'Якутск'\n",
    "shops['city_code'] = pd.factorize(shops['city'])[0]\n",
    "shops = shops[['shop_id','city_code']]"
   ]
  },
  {
   "cell_type": "code",
   "execution_count": 18,
   "metadata": {
    "_uuid": "54c1848f3d9005b475299492ac4af5d447ad4b62"
   },
   "outputs": [],
   "source": [
    "sales_monthly = pd.merge(sales_monthly, shops, on='shop_id', how='left')\n",
    "test = pd.merge(test,shops, on='shop_id', how='left')"
   ]
  },
  {
   "cell_type": "code",
   "execution_count": 19,
   "metadata": {
    "_uuid": "8d1879ced0ecceb2bc782ccadc73270eb92d826a"
   },
   "outputs": [],
   "source": [
    "item_categories['split'] = item_categories.item_category_name.str.split('-')\n",
    "item_categories['type'] = item_categories['split'].map(lambda x: x[0].strip())\n",
    "item_categories['sub_type'] = item_categories['split'].map(lambda x:x[1].strip() if len(x)>1 else x[0].strip())"
   ]
  },
  {
   "cell_type": "code",
   "execution_count": 20,
   "metadata": {
    "_uuid": "a9f0de46269fb98f388e6b639ea62d92535ba790"
   },
   "outputs": [],
   "source": [
    "item_categories['type'] = pd.factorize(item_categories['type'])[0]\n",
    "item_categories['sub_type'] = pd.factorize(item_categories['sub_type'])[0]"
   ]
  },
  {
   "cell_type": "code",
   "execution_count": 21,
   "metadata": {
    "_uuid": "b712e8bbbdfd04e3f4b34730731853f59ed05b58"
   },
   "outputs": [],
   "source": [
    "item_categories = item_categories[['item_category_id', 'type', 'sub_type']]"
   ]
  },
  {
   "cell_type": "code",
   "execution_count": 22,
   "metadata": {
    "_uuid": "b55c6d17ef9c74f8c3ee1c2397d89ddbb8da38cc"
   },
   "outputs": [],
   "source": [
    "item_prices = sales_train.groupby(['item_id'], as_index=False)['item_price'].agg('mean')"
   ]
  },
  {
   "cell_type": "code",
   "execution_count": 23,
   "metadata": {
    "_uuid": "4e241d24b94395fe48a268fdc4ee7549351cad0c"
   },
   "outputs": [],
   "source": [
    "items = pd.merge(items, item_prices, on='item_id', how='left')"
   ]
  },
  {
   "cell_type": "code",
   "execution_count": 24,
   "metadata": {
    "_uuid": "f8a5a669d8723bfd0224eb54dc713959e85e962b"
   },
   "outputs": [],
   "source": [
    "item_prices_cat = items[items.item_price.notnull()].groupby('item_category_id')['item_price'].agg('mean')"
   ]
  },
  {
   "cell_type": "code",
   "execution_count": 25,
   "metadata": {
    "_uuid": "37a20297b573b2d7aacc6edeacdd96062f0f1474"
   },
   "outputs": [],
   "source": [
    "items.loc[items.item_price.isnull(),'item_price'] = items[items.item_price.isnull()]['item_category_id'].map(item_prices_cat)"
   ]
  },
  {
   "cell_type": "code",
   "execution_count": 26,
   "metadata": {
    "_uuid": "65ff1c3e9a3204b3728e017086ab72c58d4d6031"
   },
   "outputs": [],
   "source": [
    "items.drop(['item_name'], axis=1, inplace=True)"
   ]
  },
  {
   "cell_type": "code",
   "execution_count": 27,
   "metadata": {
    "_uuid": "7c690288fc826ec09e0594c49b126acf2a50c000"
   },
   "outputs": [],
   "source": [
    "items = pd.merge(items, item_categories, on='item_category_id', how='left')"
   ]
  },
  {
   "cell_type": "code",
   "execution_count": 28,
   "metadata": {
    "_uuid": "dbb1ba0875e72419d9018c24d0cc938136631540"
   },
   "outputs": [
    {
     "data": {
      "text/html": [
       "<div>\n",
       "<style scoped>\n",
       "    .dataframe tbody tr th:only-of-type {\n",
       "        vertical-align: middle;\n",
       "    }\n",
       "\n",
       "    .dataframe tbody tr th {\n",
       "        vertical-align: top;\n",
       "    }\n",
       "\n",
       "    .dataframe thead th {\n",
       "        text-align: right;\n",
       "    }\n",
       "</style>\n",
       "<table border=\"1\" class=\"dataframe\">\n",
       "  <thead>\n",
       "    <tr style=\"text-align: right;\">\n",
       "      <th></th>\n",
       "      <th>item_id</th>\n",
       "      <th>item_category_id</th>\n",
       "      <th>item_price</th>\n",
       "      <th>type</th>\n",
       "      <th>sub_type</th>\n",
       "    </tr>\n",
       "  </thead>\n",
       "  <tbody>\n",
       "    <tr>\n",
       "      <th>0</th>\n",
       "      <td>0</td>\n",
       "      <td>40</td>\n",
       "      <td>58.0</td>\n",
       "      <td>11</td>\n",
       "      <td>22</td>\n",
       "    </tr>\n",
       "    <tr>\n",
       "      <th>1</th>\n",
       "      <td>1</td>\n",
       "      <td>76</td>\n",
       "      <td>4490.0</td>\n",
       "      <td>15</td>\n",
       "      <td>57</td>\n",
       "    </tr>\n",
       "    <tr>\n",
       "      <th>2</th>\n",
       "      <td>2</td>\n",
       "      <td>40</td>\n",
       "      <td>58.0</td>\n",
       "      <td>11</td>\n",
       "      <td>22</td>\n",
       "    </tr>\n",
       "    <tr>\n",
       "      <th>3</th>\n",
       "      <td>3</td>\n",
       "      <td>40</td>\n",
       "      <td>79.0</td>\n",
       "      <td>11</td>\n",
       "      <td>22</td>\n",
       "    </tr>\n",
       "    <tr>\n",
       "      <th>4</th>\n",
       "      <td>4</td>\n",
       "      <td>40</td>\n",
       "      <td>58.0</td>\n",
       "      <td>11</td>\n",
       "      <td>22</td>\n",
       "    </tr>\n",
       "  </tbody>\n",
       "</table>\n",
       "</div>"
      ],
      "text/plain": [
       "   item_id  item_category_id  item_price  type  sub_type\n",
       "0        0                40        58.0    11        22\n",
       "1        1                76      4490.0    15        57\n",
       "2        2                40        58.0    11        22\n",
       "3        3                40        79.0    11        22\n",
       "4        4                40        58.0    11        22"
      ]
     },
     "execution_count": 28,
     "metadata": {},
     "output_type": "execute_result"
    }
   ],
   "source": [
    "items.head()"
   ]
  },
  {
   "cell_type": "code",
   "execution_count": 29,
   "metadata": {
    "_uuid": "64a7cc8e59d485e11283ad974d2d1ab1e9883c58"
   },
   "outputs": [],
   "source": [
    "sales_monthly = pd.merge(sales_monthly, items, on=['item_id'], how='left')\n",
    "test = pd.merge(test, items, on=['item_id'], how='left')"
   ]
  },
  {
   "cell_type": "markdown",
   "metadata": {
    "_uuid": "53f01c148dfa08349509ab34a41c4e64c0347d20"
   },
   "source": [
    "## **3 Feature Engineering**"
   ]
  },
  {
   "cell_type": "markdown",
   "metadata": {
    "_uuid": "95377550094ff02b7d2ea655d9655d08bd140284"
   },
   "source": [
    "### 3.1 item_price vs item_price_global\n",
    "Add the ratio between the standard value of item_price and the actual sales price. I want to express discounts item price at shop"
   ]
  },
  {
   "cell_type": "code",
   "execution_count": 30,
   "metadata": {
    "_uuid": "f87b1ee28170fc6ec44654244e27eded5225a27a"
   },
   "outputs": [],
   "source": [
    "sales_monthly.rename(columns={'item_price':'item_price_global'}, inplace=True)\n",
    "test.rename(columns={'item_price':'item_price_global'}, inplace=True)"
   ]
  },
  {
   "cell_type": "code",
   "execution_count": 31,
   "metadata": {
    "_uuid": "19b275ef6f819cbf680676d856817fc5d30576ae"
   },
   "outputs": [],
   "source": [
    "shop_item_price = sales_train.groupby(['shop_id', 'item_id'], as_index=False)['item_price'].mean()"
   ]
  },
  {
   "cell_type": "code",
   "execution_count": 32,
   "metadata": {
    "_uuid": "c9eaf7450c6a626d3927d06a373aa7a47eb95d8e"
   },
   "outputs": [],
   "source": [
    "sales_monthly = pd.merge(sales_monthly, shop_item_price, on=['shop_id', 'item_id'], how='left')"
   ]
  },
  {
   "cell_type": "code",
   "execution_count": 33,
   "metadata": {
    "_uuid": "531fb3cd07517dfa84278e5bae85fb66820321b7"
   },
   "outputs": [],
   "source": [
    "sales_monthly['shop_price_vs_global_price'] = sales_monthly['item_price'] / sales_monthly['item_price_global']"
   ]
  },
  {
   "cell_type": "code",
   "execution_count": 34,
   "metadata": {
    "_uuid": "d38a114da83ea26ab66a7bbf9d74d376dba054bd"
   },
   "outputs": [],
   "source": [
    "sales_monthly.drop('item_price', axis=1, inplace=True)"
   ]
  },
  {
   "cell_type": "markdown",
   "metadata": {
    "_uuid": "e454115ad08557975d7bfc27a3168309141f9f2c"
   },
   "source": [
    "### 3.2 Target Encoding\n",
    "- Calculate the average of various combinations of targets. It essentially mean encording . If you add date_block_num to the group you do not have to worry about leak (you can not see future data)\n",
    "- Mean Encoding of item_id and shop_id was done with 5-fold, but it the score did not improve, so I didn't add that feature. The snippet is shown below\n",
    "```python\n",
    " for trn_idx, val_idx in kfold.split(sales_monthly):\n",
    "        trn, val = sales_monthly.iloc[trn_idx], sales_monthly.iloc[val_idx]\n",
    "        item_id_target_enc = trn.groupby('item_id')['item_cnt_month'].mean()\n",
    "        val['item_id_target_enc'] = val['item_id'].map(item_id_target_enc)\n",
    "        sales_monthly.loc[val_idx, 'item_id_target_enc'] = val['item_id_target_enc']\n",
    "    \n",
    " sales_monthly['item_id_target_enc'].fillna(0, inplace=True) \n",
    "```"
   ]
  },
  {
   "cell_type": "code",
   "execution_count": 35,
   "metadata": {
    "_uuid": "ec3653cece10837a3e5843ecea57da4e468ed244"
   },
   "outputs": [],
   "source": [
    "sales_monthly['date_item_target_enc'] =\\\n",
    "sales_monthly.groupby(['date_block_num','item_id'], as_index=False)['item_cnt_month'].transform('mean').astype(np.float16)"
   ]
  },
  {
   "cell_type": "code",
   "execution_count": 36,
   "metadata": {
    "_uuid": "c7463e0991d495410816c6f04dd187f7de9cf0f5"
   },
   "outputs": [],
   "source": [
    "sales_monthly['date_target_enc'] =\\\n",
    "sales_monthly.groupby(['date_block_num'], as_index=False)['item_cnt_month'].transform('mean').astype(np.float16)"
   ]
  },
  {
   "cell_type": "code",
   "execution_count": 37,
   "metadata": {
    "_uuid": "c656e5a7974c44778eee0bc951d956c3c9c18888"
   },
   "outputs": [],
   "source": [
    "sales_monthly['date_shop_target_enc'] =\\\n",
    "sales_monthly.groupby(['date_block_num','shop_id'], as_index=False)['item_cnt_month'].transform('mean').astype(np.float16)"
   ]
  },
  {
   "cell_type": "code",
   "execution_count": 38,
   "metadata": {
    "_uuid": "aaec7bb5a6371f3a0c27a33d73f4eaac0108f895"
   },
   "outputs": [],
   "source": [
    "sales_monthly['date_cat_target_enc'] =\\\n",
    "sales_monthly.groupby(['date_block_num','item_category_id'], as_index=False)['item_cnt_month'].transform('mean').astype(np.float16)"
   ]
  },
  {
   "cell_type": "code",
   "execution_count": 39,
   "metadata": {
    "_uuid": "07c5c2367319609d5a728898ce88afe8e3530886"
   },
   "outputs": [],
   "source": [
    "sales_monthly['date_shop_cat_target_enc'] =\\\n",
    "sales_monthly.groupby(['date_block_num','shop_id','item_category_id'], as_index=False)['item_cnt_month'].transform('mean').astype(np.float16)"
   ]
  },
  {
   "cell_type": "code",
   "execution_count": 40,
   "metadata": {
    "_uuid": "4e2266b49deff2adfe511b77e13f3993a0715b0d"
   },
   "outputs": [],
   "source": [
    "group = sales_monthly.groupby(['date_block_num','item_id','city_code'], as_index=False)['item_cnt_month'].agg('mean')\n",
    "group.rename(columns={'item_cnt_month':'date_item_city_target_enc'}, inplace=True)"
   ]
  },
  {
   "cell_type": "code",
   "execution_count": 41,
   "metadata": {
    "_uuid": "673ef3fb0b5e5e794394e1cda4ab466afa2fa8f2"
   },
   "outputs": [],
   "source": [
    "sales_monthly = pd.merge(sales_monthly, group, on=['date_block_num','item_id','city_code'], how='left')"
   ]
  },
  {
   "cell_type": "markdown",
   "metadata": {
    "_uuid": "aac1dafbfa6d87785dfc8e0111331e43dcb8b887"
   },
   "source": [
    "### 3.3 Month Feature\n",
    "It is processing concerning the feature of the month\n",
    "- Convert date_block_num to month\n",
    "- **Month has periodicity. But in 1-12 the model can not capture its circularity. Therefore we add the function to place month on the circumference.**\n",
    "- Add days. For example, February has fewer days than other months. The number of sales should also drop."
   ]
  },
  {
   "cell_type": "code",
   "execution_count": 42,
   "metadata": {
    "_uuid": "4e265c30823561e8cc7a6bbe32a471d0bbcf3616"
   },
   "outputs": [],
   "source": [
    "date_block_num_to_month = {0: 1,1: 2,2: 3,3: 4,4: 5,5: 6,6: 7,\n",
    " 7: 8,8: 9,9: 10,10: 11,11: 12,12: 1,\n",
    " 13: 2,14: 3,15: 4,16: 5,17: 6,18: 7,19: 8,20: 9,\n",
    " 21: 10,22: 11,23: 12,24: 1,25: 2,26: 3,27: 4,\n",
    " 28: 5,29: 6,30: 7,31: 8,32: 9,33: 10,34: 11}"
   ]
  },
  {
   "cell_type": "code",
   "execution_count": 43,
   "metadata": {
    "_uuid": "c0c77fbdf1ebecb8d115f07a79ba785abf069ff9"
   },
   "outputs": [],
   "source": [
    "sales_monthly['month'] = sales_monthly['date_block_num'].map(date_block_num_to_month)\n",
    "test['month'] = sales_monthly['date_block_num'].map(date_block_num_to_month)"
   ]
  },
  {
   "cell_type": "code",
   "execution_count": 44,
   "metadata": {
    "_uuid": "024131b6c7cd1e38534d3049a3617a5147339f0b"
   },
   "outputs": [],
   "source": [
    "sales_monthly['month_sin'] = np.sin(2 * np.pi * sales_monthly.month / 12.0)\n",
    "test['month_sin'] = np.sin(2 * np.pi * test.month / 12.0)"
   ]
  },
  {
   "cell_type": "code",
   "execution_count": 45,
   "metadata": {
    "_uuid": "ff9c8314d4456fd0a26bd6b382c63822e1b40d9c"
   },
   "outputs": [],
   "source": [
    "sales_monthly['month_cos'] = np.cos(2 * np.pi * sales_monthly.month / 12.0)\n",
    "test['month_cos'] = np.cos(2 * np.pi * test.month / 12.0)"
   ]
  },
  {
   "cell_type": "code",
   "execution_count": 46,
   "metadata": {
    "_uuid": "3641d502515262851e170fcbb5e35d3d64d2d0d9"
   },
   "outputs": [],
   "source": [
    "month_days = {1:31,2:28,3:31,4:30,5:31,6:30,7:31,8:31,9:30,10:31,11:30,12:31}"
   ]
  },
  {
   "cell_type": "code",
   "execution_count": 47,
   "metadata": {
    "_uuid": "80ec3f5e3dd703082c38764563720d780dba6737"
   },
   "outputs": [],
   "source": [
    "sales_monthly['days'] = sales_monthly['month'].map(month_days)\n",
    "test['days'] = test['month'].map(month_days)"
   ]
  },
  {
   "cell_type": "markdown",
   "metadata": {
    "_uuid": "7ff96e29670e82885b2b928b7a6e93268877e2b6"
   },
   "source": [
    "Concat test set"
   ]
  },
  {
   "cell_type": "code",
   "execution_count": 48,
   "metadata": {
    "_uuid": "048734e178b71fd2006ed3bc644ea208662f4691"
   },
   "outputs": [],
   "source": [
    "sales_monthly = pd.concat([sales_monthly, test], ignore_index=True, sort=False, keys=cols)"
   ]
  },
  {
   "cell_type": "code",
   "execution_count": 49,
   "metadata": {
    "_uuid": "19a3958ed1dc7f024a6193eb41ed285937e9554f"
   },
   "outputs": [
    {
     "data": {
      "text/html": [
       "<div>\n",
       "<style scoped>\n",
       "    .dataframe tbody tr th:only-of-type {\n",
       "        vertical-align: middle;\n",
       "    }\n",
       "\n",
       "    .dataframe tbody tr th {\n",
       "        vertical-align: top;\n",
       "    }\n",
       "\n",
       "    .dataframe thead th {\n",
       "        text-align: right;\n",
       "    }\n",
       "</style>\n",
       "<table border=\"1\" class=\"dataframe\">\n",
       "  <thead>\n",
       "    <tr style=\"text-align: right;\">\n",
       "      <th></th>\n",
       "      <th>date_block_num</th>\n",
       "      <th>shop_id</th>\n",
       "      <th>item_id</th>\n",
       "      <th>item_cnt_month</th>\n",
       "      <th>city_code</th>\n",
       "      <th>item_category_id</th>\n",
       "      <th>item_price_global</th>\n",
       "      <th>type</th>\n",
       "      <th>sub_type</th>\n",
       "      <th>shop_price_vs_global_price</th>\n",
       "      <th>date_item_target_enc</th>\n",
       "      <th>date_target_enc</th>\n",
       "      <th>date_shop_target_enc</th>\n",
       "      <th>date_cat_target_enc</th>\n",
       "      <th>date_shop_cat_target_enc</th>\n",
       "      <th>date_item_city_target_enc</th>\n",
       "      <th>month</th>\n",
       "      <th>month_sin</th>\n",
       "      <th>month_cos</th>\n",
       "      <th>days</th>\n",
       "    </tr>\n",
       "  </thead>\n",
       "  <tbody>\n",
       "    <tr>\n",
       "      <th>11127951</th>\n",
       "      <td>34</td>\n",
       "      <td>45</td>\n",
       "      <td>18454</td>\n",
       "      <td>NaN</td>\n",
       "      <td>21</td>\n",
       "      <td>55</td>\n",
       "      <td>188.681084</td>\n",
       "      <td>13</td>\n",
       "      <td>36</td>\n",
       "      <td>NaN</td>\n",
       "      <td>NaN</td>\n",
       "      <td>NaN</td>\n",
       "      <td>NaN</td>\n",
       "      <td>NaN</td>\n",
       "      <td>NaN</td>\n",
       "      <td>NaN</td>\n",
       "      <td>1</td>\n",
       "      <td>0.5</td>\n",
       "      <td>0.866025</td>\n",
       "      <td>31</td>\n",
       "    </tr>\n",
       "    <tr>\n",
       "      <th>11127952</th>\n",
       "      <td>34</td>\n",
       "      <td>45</td>\n",
       "      <td>16188</td>\n",
       "      <td>NaN</td>\n",
       "      <td>21</td>\n",
       "      <td>64</td>\n",
       "      <td>1256.975000</td>\n",
       "      <td>14</td>\n",
       "      <td>45</td>\n",
       "      <td>NaN</td>\n",
       "      <td>NaN</td>\n",
       "      <td>NaN</td>\n",
       "      <td>NaN</td>\n",
       "      <td>NaN</td>\n",
       "      <td>NaN</td>\n",
       "      <td>NaN</td>\n",
       "      <td>1</td>\n",
       "      <td>0.5</td>\n",
       "      <td>0.866025</td>\n",
       "      <td>31</td>\n",
       "    </tr>\n",
       "    <tr>\n",
       "      <th>11127953</th>\n",
       "      <td>34</td>\n",
       "      <td>45</td>\n",
       "      <td>15757</td>\n",
       "      <td>NaN</td>\n",
       "      <td>21</td>\n",
       "      <td>55</td>\n",
       "      <td>198.113208</td>\n",
       "      <td>13</td>\n",
       "      <td>36</td>\n",
       "      <td>NaN</td>\n",
       "      <td>NaN</td>\n",
       "      <td>NaN</td>\n",
       "      <td>NaN</td>\n",
       "      <td>NaN</td>\n",
       "      <td>NaN</td>\n",
       "      <td>NaN</td>\n",
       "      <td>1</td>\n",
       "      <td>0.5</td>\n",
       "      <td>0.866025</td>\n",
       "      <td>31</td>\n",
       "    </tr>\n",
       "    <tr>\n",
       "      <th>11127954</th>\n",
       "      <td>34</td>\n",
       "      <td>45</td>\n",
       "      <td>19648</td>\n",
       "      <td>NaN</td>\n",
       "      <td>21</td>\n",
       "      <td>40</td>\n",
       "      <td>98.096296</td>\n",
       "      <td>11</td>\n",
       "      <td>22</td>\n",
       "      <td>NaN</td>\n",
       "      <td>NaN</td>\n",
       "      <td>NaN</td>\n",
       "      <td>NaN</td>\n",
       "      <td>NaN</td>\n",
       "      <td>NaN</td>\n",
       "      <td>NaN</td>\n",
       "      <td>1</td>\n",
       "      <td>0.5</td>\n",
       "      <td>0.866025</td>\n",
       "      <td>31</td>\n",
       "    </tr>\n",
       "    <tr>\n",
       "      <th>11127955</th>\n",
       "      <td>34</td>\n",
       "      <td>45</td>\n",
       "      <td>969</td>\n",
       "      <td>NaN</td>\n",
       "      <td>21</td>\n",
       "      <td>37</td>\n",
       "      <td>502.297061</td>\n",
       "      <td>11</td>\n",
       "      <td>21</td>\n",
       "      <td>NaN</td>\n",
       "      <td>NaN</td>\n",
       "      <td>NaN</td>\n",
       "      <td>NaN</td>\n",
       "      <td>NaN</td>\n",
       "      <td>NaN</td>\n",
       "      <td>NaN</td>\n",
       "      <td>1</td>\n",
       "      <td>0.5</td>\n",
       "      <td>0.866025</td>\n",
       "      <td>31</td>\n",
       "    </tr>\n",
       "  </tbody>\n",
       "</table>\n",
       "</div>"
      ],
      "text/plain": [
       "          date_block_num  shop_id  item_id  ...   month_sin  month_cos  days\n",
       "11127951              34       45    18454  ...         0.5   0.866025    31\n",
       "11127952              34       45    16188  ...         0.5   0.866025    31\n",
       "11127953              34       45    15757  ...         0.5   0.866025    31\n",
       "11127954              34       45    19648  ...         0.5   0.866025    31\n",
       "11127955              34       45      969  ...         0.5   0.866025    31\n",
       "\n",
       "[5 rows x 20 columns]"
      ]
     },
     "execution_count": 49,
     "metadata": {},
     "output_type": "execute_result"
    }
   ],
   "source": [
    "sales_monthly.tail()"
   ]
  },
  {
   "cell_type": "markdown",
   "metadata": {
    "_uuid": "fd45a385dec943732f1a9085f8c17ba61f403d32"
   },
   "source": [
    "### 3.4 Take Lag \n",
    "Since it is necessary to predict the data of the future, I shift the function of the past and let the model learn.\n",
    "- All features related to actual sales take lag. Except for target, I drop the original feature "
   ]
  },
  {
   "cell_type": "code",
   "execution_count": 50,
   "metadata": {
    "_uuid": "a0c131bda67d4eb842b7555d3340318a8e611f21"
   },
   "outputs": [],
   "source": [
    "def lag_feature(df, lags, col):\n",
    "    tmp = df[['date_block_num','shop_id','item_id',col]]\n",
    "    for i in tqdm(lags):\n",
    "        shifted = tmp.copy()\n",
    "        shifted.columns = ['date_block_num','shop_id','item_id',col+'_lag_'+str(i)]\n",
    "        shifted['date_block_num'] += i\n",
    "        df = pd.merge(df, shifted, on=['date_block_num','shop_id','item_id'], how='left')\n",
    "        \n",
    "    return df"
   ]
  },
  {
   "cell_type": "code",
   "execution_count": 51,
   "metadata": {
    "_uuid": "46ebc9f0aa1af64ed0dfa5d7d12ef2a8da122679"
   },
   "outputs": [
    {
     "name": "stderr",
     "output_type": "stream",
     "text": [
      "100%|██████████| 5/5 [00:53<00:00, 10.98s/it]\n"
     ]
    }
   ],
   "source": [
    "sales_monthly = lag_feature(sales_monthly, [1, 2, 3, 6, 12], 'item_cnt_month')"
   ]
  },
  {
   "cell_type": "code",
   "execution_count": 52,
   "metadata": {
    "_uuid": "314ff40bfb92c57af57a4dac8471efb2f94939c3"
   },
   "outputs": [
    {
     "name": "stderr",
     "output_type": "stream",
     "text": [
      "100%|██████████| 5/5 [00:57<00:00, 11.80s/it]\n"
     ]
    }
   ],
   "source": [
    "sales_monthly = lag_feature(sales_monthly, [1, 2, 3, 6, 12], 'shop_price_vs_global_price')\n",
    "sales_monthly.drop('shop_price_vs_global_price', axis=1, inplace=True)"
   ]
  },
  {
   "cell_type": "code",
   "execution_count": 53,
   "metadata": {
    "_uuid": "37146c9c7d9d2e022d76a71a410b8265bf6996eb"
   },
   "outputs": [
    {
     "name": "stderr",
     "output_type": "stream",
     "text": [
      "100%|██████████| 5/5 [00:56<00:00, 11.58s/it]\n"
     ]
    }
   ],
   "source": [
    "sales_monthly = lag_feature(sales_monthly, [1, 2, 3, 6, 12], 'date_item_target_enc')\n",
    "sales_monthly.drop('date_item_target_enc', axis=1, inplace=True)"
   ]
  },
  {
   "cell_type": "code",
   "execution_count": 54,
   "metadata": {
    "_uuid": "02dfc55a5b9573303e02020690b190b206b1c55c"
   },
   "outputs": [
    {
     "name": "stderr",
     "output_type": "stream",
     "text": [
      "100%|██████████| 5/5 [00:59<00:00, 12.34s/it]\n"
     ]
    }
   ],
   "source": [
    "sales_monthly = lag_feature(sales_monthly, [1, 2, 3, 6, 12], 'date_shop_target_enc')\n",
    "sales_monthly.drop('date_shop_target_enc', axis=1, inplace=True)"
   ]
  },
  {
   "cell_type": "code",
   "execution_count": 55,
   "metadata": {
    "_uuid": "7e6e85e43c7cbf87ef8162a715be3920040adbb6"
   },
   "outputs": [
    {
     "name": "stderr",
     "output_type": "stream",
     "text": [
      "100%|██████████| 5/5 [01:01<00:00, 12.67s/it]\n"
     ]
    }
   ],
   "source": [
    "sales_monthly = lag_feature(sales_monthly, [1, 2, 3, 6, 12], 'date_cat_target_enc')\n",
    "sales_monthly.drop('date_cat_target_enc', axis=1, inplace=True)"
   ]
  },
  {
   "cell_type": "code",
   "execution_count": 56,
   "metadata": {
    "_uuid": "0c2883de716451a492f92b932ee4212cb23df109"
   },
   "outputs": [
    {
     "name": "stderr",
     "output_type": "stream",
     "text": [
      "100%|██████████| 5/5 [01:02<00:00, 12.90s/it]\n"
     ]
    }
   ],
   "source": [
    "sales_monthly = lag_feature(sales_monthly, [1, 2, 3, 6, 12], 'date_shop_cat_target_enc')\n",
    "sales_monthly.drop('date_shop_cat_target_enc', axis=1, inplace=True)"
   ]
  },
  {
   "cell_type": "code",
   "execution_count": 57,
   "metadata": {
    "_uuid": "8c16e8d669454d119fbbb2e5b376cd4b888284a5"
   },
   "outputs": [
    {
     "name": "stderr",
     "output_type": "stream",
     "text": [
      "100%|██████████| 5/5 [01:05<00:00, 13.45s/it]\n"
     ]
    }
   ],
   "source": [
    "sales_monthly = lag_feature(sales_monthly, [1, 2, 3, 6, 12], 'date_target_enc')\n",
    "sales_monthly.drop('date_target_enc', axis=1, inplace=True)"
   ]
  },
  {
   "cell_type": "code",
   "execution_count": 58,
   "metadata": {
    "_uuid": "8daf2e03d45f1fe01b4e62524cc9dd24cb4faa16"
   },
   "outputs": [
    {
     "name": "stderr",
     "output_type": "stream",
     "text": [
      "100%|██████████| 5/5 [01:05<00:00, 13.37s/it]\n"
     ]
    }
   ],
   "source": [
    "sales_monthly = lag_feature(sales_monthly, [1, 2, 3, 6, 12], 'date_item_city_target_enc')\n",
    "sales_monthly.drop('date_item_city_target_enc', axis=1, inplace=True)"
   ]
  },
  {
   "cell_type": "markdown",
   "metadata": {
    "_uuid": "ce2f6c194f124a20d7af363ebeadfc7b071e478c"
   },
   "source": [
    "###  3.3 Item first salse \n",
    "New products should sell well. Add date_block_month as feature sold first item month"
   ]
  },
  {
   "cell_type": "code",
   "execution_count": 59,
   "metadata": {
    "_uuid": "153543e89fe23e802d21da25d8f0fa818fda5cd1"
   },
   "outputs": [],
   "source": [
    "sales_monthly['item_first_sale'] = sales_monthly.date_block_num - \\\n",
    "sales_monthly.groupby('item_id')['date_block_num'].transform('min')"
   ]
  },
  {
   "cell_type": "code",
   "execution_count": 60,
   "metadata": {
    "_uuid": "b5cfa57373b7cb7f493e2da113e2ebcd06b990d4"
   },
   "outputs": [],
   "source": [
    "sales_monthly['shop_item_first_sale'] = sales_monthly.date_block_num - \\\n",
    "sales_monthly.groupby(['shop_id','item_id'])['date_block_num'].transform('min')"
   ]
  },
  {
   "cell_type": "markdown",
   "metadata": {
    "_uuid": "c1a1587f08382e6ba5bf3290a9cff8a03d6f680f"
   },
   "source": [
    "Since I took a lag, I can not use the data of 12 months ago. We will use data from the last 12 months"
   ]
  },
  {
   "cell_type": "code",
   "execution_count": 61,
   "metadata": {
    "_uuid": "8ec199daf315fa99fb9e5b0f49addcad53b3bbc7"
   },
   "outputs": [],
   "source": [
    "train_test_set = sales_monthly[sales_monthly.date_block_num > 11].copy()"
   ]
  },
  {
   "cell_type": "markdown",
   "metadata": {
    "_uuid": "4c51afc3d912ecd111f07653943c39c1b2b34ea9"
   },
   "source": [
    "### 3.5 Past N month sales volume\n",
    "We will add the total sales volume for the most recent N months to the feature. Shops that have opened recently should have relatively higher sales volumes than other shops"
   ]
  },
  {
   "cell_type": "code",
   "execution_count": 62,
   "metadata": {
    "_uuid": "f34ff5e40619223bc7eb91ff814b992ac089529d"
   },
   "outputs": [
    {
     "name": "stderr",
     "output_type": "stream",
     "text": [
      "100%|██████████| 5/5 [03:13<00:00, 43.67s/it]\n"
     ]
    }
   ],
   "source": [
    "for past in tqdm([1, 2, 3, 6, 12]):\n",
    "    df = pd.DataFrame()\n",
    "    for start_date in train_test_set.date_block_num.unique():\n",
    "        group = sales_monthly[sales_monthly.date_block_num.isin(list(range(start_date-past, start_date)))]\n",
    "        group = group.groupby(['shop_id','item_id'], as_index=False).item_cnt_month.sum()\n",
    "        group.rename(columns={'item_cnt_month':'item_cnt_{}_month_past_sum'.format(past)}, inplace=True)\n",
    "        group['date_block_num'] = start_date\n",
    "\n",
    "        df = pd.concat([df, group])\n",
    "\n",
    "    train_test_set = pd.merge(train_test_set, df, on=['date_block_num','shop_id','item_id'], how='left')"
   ]
  },
  {
   "cell_type": "markdown",
   "metadata": {
    "_uuid": "a3753f32ef70c8a76943e9abbc26781c176b9463"
   },
   "source": [
    "*******\n",
    "All the functions are added.  \n",
    "After filling NaN with 0, save the processed data table as a checkpoint. Downtype dtype for memory"
   ]
  },
  {
   "cell_type": "code",
   "execution_count": 63,
   "metadata": {
    "_uuid": "75866354872743d9bdd2e4169c0c70e409327c66"
   },
   "outputs": [],
   "source": [
    "train_test_set.fillna(0, inplace=True)"
   ]
  },
  {
   "cell_type": "code",
   "execution_count": 64,
   "metadata": {
    "_uuid": "9b32eaf7f567cb247199d5847413465c21d7a72c"
   },
   "outputs": [
    {
     "data": {
      "text/html": [
       "<div>\n",
       "<style scoped>\n",
       "    .dataframe tbody tr th:only-of-type {\n",
       "        vertical-align: middle;\n",
       "    }\n",
       "\n",
       "    .dataframe tbody tr th {\n",
       "        vertical-align: top;\n",
       "    }\n",
       "\n",
       "    .dataframe thead th {\n",
       "        text-align: right;\n",
       "    }\n",
       "</style>\n",
       "<table border=\"1\" class=\"dataframe\">\n",
       "  <thead>\n",
       "    <tr style=\"text-align: right;\">\n",
       "      <th></th>\n",
       "      <th>date_block_num</th>\n",
       "      <th>shop_id</th>\n",
       "      <th>item_id</th>\n",
       "      <th>item_cnt_month</th>\n",
       "      <th>city_code</th>\n",
       "      <th>item_category_id</th>\n",
       "      <th>item_price_global</th>\n",
       "      <th>type</th>\n",
       "      <th>sub_type</th>\n",
       "      <th>month</th>\n",
       "      <th>month_sin</th>\n",
       "      <th>month_cos</th>\n",
       "      <th>days</th>\n",
       "      <th>item_cnt_month_lag_1</th>\n",
       "      <th>item_cnt_month_lag_2</th>\n",
       "      <th>item_cnt_month_lag_3</th>\n",
       "      <th>item_cnt_month_lag_6</th>\n",
       "      <th>item_cnt_month_lag_12</th>\n",
       "      <th>shop_price_vs_global_price_lag_1</th>\n",
       "      <th>shop_price_vs_global_price_lag_2</th>\n",
       "      <th>shop_price_vs_global_price_lag_3</th>\n",
       "      <th>shop_price_vs_global_price_lag_6</th>\n",
       "      <th>shop_price_vs_global_price_lag_12</th>\n",
       "      <th>date_item_target_enc_lag_1</th>\n",
       "      <th>date_item_target_enc_lag_2</th>\n",
       "      <th>date_item_target_enc_lag_3</th>\n",
       "      <th>date_item_target_enc_lag_6</th>\n",
       "      <th>date_item_target_enc_lag_12</th>\n",
       "      <th>date_shop_target_enc_lag_1</th>\n",
       "      <th>date_shop_target_enc_lag_2</th>\n",
       "      <th>date_shop_target_enc_lag_3</th>\n",
       "      <th>date_shop_target_enc_lag_6</th>\n",
       "      <th>date_shop_target_enc_lag_12</th>\n",
       "      <th>date_cat_target_enc_lag_1</th>\n",
       "      <th>date_cat_target_enc_lag_2</th>\n",
       "      <th>date_cat_target_enc_lag_3</th>\n",
       "      <th>date_cat_target_enc_lag_6</th>\n",
       "      <th>date_cat_target_enc_lag_12</th>\n",
       "      <th>date_shop_cat_target_enc_lag_1</th>\n",
       "      <th>date_shop_cat_target_enc_lag_2</th>\n",
       "      <th>date_shop_cat_target_enc_lag_3</th>\n",
       "      <th>date_shop_cat_target_enc_lag_6</th>\n",
       "      <th>date_shop_cat_target_enc_lag_12</th>\n",
       "      <th>date_target_enc_lag_1</th>\n",
       "      <th>date_target_enc_lag_2</th>\n",
       "      <th>date_target_enc_lag_3</th>\n",
       "      <th>date_target_enc_lag_6</th>\n",
       "      <th>date_target_enc_lag_12</th>\n",
       "      <th>date_item_city_target_enc_lag_1</th>\n",
       "      <th>date_item_city_target_enc_lag_2</th>\n",
       "      <th>date_item_city_target_enc_lag_3</th>\n",
       "      <th>date_item_city_target_enc_lag_6</th>\n",
       "      <th>date_item_city_target_enc_lag_12</th>\n",
       "      <th>item_first_sale</th>\n",
       "      <th>shop_item_first_sale</th>\n",
       "      <th>item_cnt_1_month_past_sum</th>\n",
       "      <th>item_cnt_2_month_past_sum</th>\n",
       "      <th>item_cnt_3_month_past_sum</th>\n",
       "      <th>item_cnt_6_month_past_sum</th>\n",
       "      <th>item_cnt_12_month_past_sum</th>\n",
       "    </tr>\n",
       "  </thead>\n",
       "  <tbody>\n",
       "    <tr>\n",
       "      <th>6639241</th>\n",
       "      <td>34</td>\n",
       "      <td>45</td>\n",
       "      <td>18454</td>\n",
       "      <td>0.0</td>\n",
       "      <td>21</td>\n",
       "      <td>55</td>\n",
       "      <td>188.681084</td>\n",
       "      <td>13</td>\n",
       "      <td>36</td>\n",
       "      <td>1</td>\n",
       "      <td>0.5</td>\n",
       "      <td>0.866025</td>\n",
       "      <td>31</td>\n",
       "      <td>1.0</td>\n",
       "      <td>0.0</td>\n",
       "      <td>0.0</td>\n",
       "      <td>0.0</td>\n",
       "      <td>0.0</td>\n",
       "      <td>0.995801</td>\n",
       "      <td>0.995801</td>\n",
       "      <td>0.995801</td>\n",
       "      <td>0.995801</td>\n",
       "      <td>0.000000</td>\n",
       "      <td>1.0</td>\n",
       "      <td>1.00</td>\n",
       "      <td>1.000000</td>\n",
       "      <td>1.299805</td>\n",
       "      <td>0.000000</td>\n",
       "      <td>1.47168</td>\n",
       "      <td>1.597656</td>\n",
       "      <td>1.40625</td>\n",
       "      <td>1.501953</td>\n",
       "      <td>0.000000</td>\n",
       "      <td>1.349609</td>\n",
       "      <td>1.247070</td>\n",
       "      <td>1.283203</td>\n",
       "      <td>1.339844</td>\n",
       "      <td>0.000000</td>\n",
       "      <td>1.197266</td>\n",
       "      <td>1.116211</td>\n",
       "      <td>1.166992</td>\n",
       "      <td>1.290039</td>\n",
       "      <td>0.000000</td>\n",
       "      <td>1.952148</td>\n",
       "      <td>1.943359</td>\n",
       "      <td>1.844727</td>\n",
       "      <td>1.87207</td>\n",
       "      <td>0.000000</td>\n",
       "      <td>1.0</td>\n",
       "      <td>0.0</td>\n",
       "      <td>0.0</td>\n",
       "      <td>0.0</td>\n",
       "      <td>0.0</td>\n",
       "      <td>11</td>\n",
       "      <td>11</td>\n",
       "      <td>1.0</td>\n",
       "      <td>1.0</td>\n",
       "      <td>1.0</td>\n",
       "      <td>1.0</td>\n",
       "      <td>9.0</td>\n",
       "    </tr>\n",
       "    <tr>\n",
       "      <th>6639242</th>\n",
       "      <td>34</td>\n",
       "      <td>45</td>\n",
       "      <td>16188</td>\n",
       "      <td>0.0</td>\n",
       "      <td>21</td>\n",
       "      <td>64</td>\n",
       "      <td>1256.975000</td>\n",
       "      <td>14</td>\n",
       "      <td>45</td>\n",
       "      <td>1</td>\n",
       "      <td>0.5</td>\n",
       "      <td>0.866025</td>\n",
       "      <td>31</td>\n",
       "      <td>0.0</td>\n",
       "      <td>0.0</td>\n",
       "      <td>0.0</td>\n",
       "      <td>0.0</td>\n",
       "      <td>0.0</td>\n",
       "      <td>0.000000</td>\n",
       "      <td>0.000000</td>\n",
       "      <td>0.000000</td>\n",
       "      <td>0.000000</td>\n",
       "      <td>0.000000</td>\n",
       "      <td>1.0</td>\n",
       "      <td>1.00</td>\n",
       "      <td>0.000000</td>\n",
       "      <td>0.000000</td>\n",
       "      <td>0.000000</td>\n",
       "      <td>1.47168</td>\n",
       "      <td>1.597656</td>\n",
       "      <td>0.00000</td>\n",
       "      <td>0.000000</td>\n",
       "      <td>0.000000</td>\n",
       "      <td>1.330078</td>\n",
       "      <td>1.277344</td>\n",
       "      <td>0.000000</td>\n",
       "      <td>0.000000</td>\n",
       "      <td>0.000000</td>\n",
       "      <td>1.000000</td>\n",
       "      <td>1.000000</td>\n",
       "      <td>0.000000</td>\n",
       "      <td>0.000000</td>\n",
       "      <td>0.000000</td>\n",
       "      <td>1.952148</td>\n",
       "      <td>1.943359</td>\n",
       "      <td>0.000000</td>\n",
       "      <td>0.00000</td>\n",
       "      <td>0.000000</td>\n",
       "      <td>0.0</td>\n",
       "      <td>0.0</td>\n",
       "      <td>0.0</td>\n",
       "      <td>0.0</td>\n",
       "      <td>0.0</td>\n",
       "      <td>2</td>\n",
       "      <td>2</td>\n",
       "      <td>0.0</td>\n",
       "      <td>0.0</td>\n",
       "      <td>0.0</td>\n",
       "      <td>0.0</td>\n",
       "      <td>0.0</td>\n",
       "    </tr>\n",
       "    <tr>\n",
       "      <th>6639243</th>\n",
       "      <td>34</td>\n",
       "      <td>45</td>\n",
       "      <td>15757</td>\n",
       "      <td>0.0</td>\n",
       "      <td>21</td>\n",
       "      <td>55</td>\n",
       "      <td>198.113208</td>\n",
       "      <td>13</td>\n",
       "      <td>36</td>\n",
       "      <td>1</td>\n",
       "      <td>0.5</td>\n",
       "      <td>0.866025</td>\n",
       "      <td>31</td>\n",
       "      <td>0.0</td>\n",
       "      <td>0.0</td>\n",
       "      <td>0.0</td>\n",
       "      <td>0.0</td>\n",
       "      <td>0.0</td>\n",
       "      <td>1.004476</td>\n",
       "      <td>1.004476</td>\n",
       "      <td>1.004476</td>\n",
       "      <td>1.004476</td>\n",
       "      <td>1.004476</td>\n",
       "      <td>1.0</td>\n",
       "      <td>1.00</td>\n",
       "      <td>1.000000</td>\n",
       "      <td>1.222656</td>\n",
       "      <td>1.125000</td>\n",
       "      <td>1.47168</td>\n",
       "      <td>1.597656</td>\n",
       "      <td>1.40625</td>\n",
       "      <td>1.501953</td>\n",
       "      <td>1.851562</td>\n",
       "      <td>1.349609</td>\n",
       "      <td>1.247070</td>\n",
       "      <td>1.283203</td>\n",
       "      <td>1.339844</td>\n",
       "      <td>1.445312</td>\n",
       "      <td>1.197266</td>\n",
       "      <td>1.116211</td>\n",
       "      <td>1.166992</td>\n",
       "      <td>1.290039</td>\n",
       "      <td>1.347656</td>\n",
       "      <td>1.952148</td>\n",
       "      <td>1.943359</td>\n",
       "      <td>1.844727</td>\n",
       "      <td>1.87207</td>\n",
       "      <td>2.150391</td>\n",
       "      <td>0.0</td>\n",
       "      <td>1.0</td>\n",
       "      <td>0.0</td>\n",
       "      <td>0.0</td>\n",
       "      <td>0.0</td>\n",
       "      <td>34</td>\n",
       "      <td>34</td>\n",
       "      <td>0.0</td>\n",
       "      <td>0.0</td>\n",
       "      <td>0.0</td>\n",
       "      <td>0.0</td>\n",
       "      <td>2.0</td>\n",
       "    </tr>\n",
       "    <tr>\n",
       "      <th>6639244</th>\n",
       "      <td>34</td>\n",
       "      <td>45</td>\n",
       "      <td>19648</td>\n",
       "      <td>0.0</td>\n",
       "      <td>21</td>\n",
       "      <td>40</td>\n",
       "      <td>98.096296</td>\n",
       "      <td>11</td>\n",
       "      <td>22</td>\n",
       "      <td>1</td>\n",
       "      <td>0.5</td>\n",
       "      <td>0.866025</td>\n",
       "      <td>31</td>\n",
       "      <td>0.0</td>\n",
       "      <td>0.0</td>\n",
       "      <td>0.0</td>\n",
       "      <td>0.0</td>\n",
       "      <td>0.0</td>\n",
       "      <td>0.000000</td>\n",
       "      <td>0.000000</td>\n",
       "      <td>0.000000</td>\n",
       "      <td>0.000000</td>\n",
       "      <td>0.000000</td>\n",
       "      <td>1.0</td>\n",
       "      <td>1.00</td>\n",
       "      <td>1.166992</td>\n",
       "      <td>1.000000</td>\n",
       "      <td>0.000000</td>\n",
       "      <td>1.47168</td>\n",
       "      <td>1.597656</td>\n",
       "      <td>1.40625</td>\n",
       "      <td>1.501953</td>\n",
       "      <td>0.000000</td>\n",
       "      <td>1.617188</td>\n",
       "      <td>1.552734</td>\n",
       "      <td>1.606445</td>\n",
       "      <td>1.711914</td>\n",
       "      <td>0.000000</td>\n",
       "      <td>1.269531</td>\n",
       "      <td>1.208008</td>\n",
       "      <td>1.309570</td>\n",
       "      <td>1.229492</td>\n",
       "      <td>0.000000</td>\n",
       "      <td>1.952148</td>\n",
       "      <td>1.943359</td>\n",
       "      <td>1.844727</td>\n",
       "      <td>1.87207</td>\n",
       "      <td>0.000000</td>\n",
       "      <td>0.0</td>\n",
       "      <td>0.0</td>\n",
       "      <td>0.0</td>\n",
       "      <td>0.0</td>\n",
       "      <td>0.0</td>\n",
       "      <td>11</td>\n",
       "      <td>11</td>\n",
       "      <td>0.0</td>\n",
       "      <td>0.0</td>\n",
       "      <td>0.0</td>\n",
       "      <td>0.0</td>\n",
       "      <td>0.0</td>\n",
       "    </tr>\n",
       "    <tr>\n",
       "      <th>6639245</th>\n",
       "      <td>34</td>\n",
       "      <td>45</td>\n",
       "      <td>969</td>\n",
       "      <td>0.0</td>\n",
       "      <td>21</td>\n",
       "      <td>37</td>\n",
       "      <td>502.297061</td>\n",
       "      <td>11</td>\n",
       "      <td>21</td>\n",
       "      <td>1</td>\n",
       "      <td>0.5</td>\n",
       "      <td>0.866025</td>\n",
       "      <td>31</td>\n",
       "      <td>0.0</td>\n",
       "      <td>0.0</td>\n",
       "      <td>0.0</td>\n",
       "      <td>0.0</td>\n",
       "      <td>0.0</td>\n",
       "      <td>1.092979</td>\n",
       "      <td>1.092979</td>\n",
       "      <td>1.092979</td>\n",
       "      <td>1.092979</td>\n",
       "      <td>1.092979</td>\n",
       "      <td>1.0</td>\n",
       "      <td>1.25</td>\n",
       "      <td>1.000000</td>\n",
       "      <td>1.000000</td>\n",
       "      <td>1.200195</td>\n",
       "      <td>1.47168</td>\n",
       "      <td>1.597656</td>\n",
       "      <td>1.40625</td>\n",
       "      <td>1.501953</td>\n",
       "      <td>1.851562</td>\n",
       "      <td>1.662109</td>\n",
       "      <td>1.498047</td>\n",
       "      <td>1.482422</td>\n",
       "      <td>1.462891</td>\n",
       "      <td>1.522461</td>\n",
       "      <td>1.154297</td>\n",
       "      <td>1.150391</td>\n",
       "      <td>1.133789</td>\n",
       "      <td>1.215820</td>\n",
       "      <td>1.149414</td>\n",
       "      <td>1.952148</td>\n",
       "      <td>1.943359</td>\n",
       "      <td>1.844727</td>\n",
       "      <td>1.87207</td>\n",
       "      <td>2.150391</td>\n",
       "      <td>1.0</td>\n",
       "      <td>0.0</td>\n",
       "      <td>0.0</td>\n",
       "      <td>0.0</td>\n",
       "      <td>0.0</td>\n",
       "      <td>17</td>\n",
       "      <td>17</td>\n",
       "      <td>0.0</td>\n",
       "      <td>0.0</td>\n",
       "      <td>0.0</td>\n",
       "      <td>0.0</td>\n",
       "      <td>0.0</td>\n",
       "    </tr>\n",
       "  </tbody>\n",
       "</table>\n",
       "</div>"
      ],
      "text/plain": [
       "         date_block_num             ...              item_cnt_12_month_past_sum\n",
       "6639241              34             ...                                     9.0\n",
       "6639242              34             ...                                     0.0\n",
       "6639243              34             ...                                     2.0\n",
       "6639244              34             ...                                     0.0\n",
       "6639245              34             ...                                     0.0\n",
       "\n",
       "[5 rows x 60 columns]"
      ]
     },
     "execution_count": 64,
     "metadata": {},
     "output_type": "execute_result"
    }
   ],
   "source": [
    "train_test_set.tail()"
   ]
  },
  {
   "cell_type": "code",
   "execution_count": 65,
   "metadata": {
    "_uuid": "7d8ec757cae0d78716fecf6e99cd4061202695fe"
   },
   "outputs": [
    {
     "data": {
      "text/plain": [
       "Index(['date_block_num', 'shop_id', 'item_id', 'item_cnt_month', 'city_code',\n",
       "       'item_category_id', 'item_price_global', 'type', 'sub_type', 'month',\n",
       "       'month_sin', 'month_cos', 'days', 'item_cnt_month_lag_1',\n",
       "       'item_cnt_month_lag_2', 'item_cnt_month_lag_3', 'item_cnt_month_lag_6',\n",
       "       'item_cnt_month_lag_12', 'shop_price_vs_global_price_lag_1',\n",
       "       'shop_price_vs_global_price_lag_2', 'shop_price_vs_global_price_lag_3',\n",
       "       'shop_price_vs_global_price_lag_6', 'shop_price_vs_global_price_lag_12',\n",
       "       'date_item_target_enc_lag_1', 'date_item_target_enc_lag_2',\n",
       "       'date_item_target_enc_lag_3', 'date_item_target_enc_lag_6',\n",
       "       'date_item_target_enc_lag_12', 'date_shop_target_enc_lag_1',\n",
       "       'date_shop_target_enc_lag_2', 'date_shop_target_enc_lag_3',\n",
       "       'date_shop_target_enc_lag_6', 'date_shop_target_enc_lag_12',\n",
       "       'date_cat_target_enc_lag_1', 'date_cat_target_enc_lag_2',\n",
       "       'date_cat_target_enc_lag_3', 'date_cat_target_enc_lag_6',\n",
       "       'date_cat_target_enc_lag_12', 'date_shop_cat_target_enc_lag_1',\n",
       "       'date_shop_cat_target_enc_lag_2', 'date_shop_cat_target_enc_lag_3',\n",
       "       'date_shop_cat_target_enc_lag_6', 'date_shop_cat_target_enc_lag_12',\n",
       "       'date_target_enc_lag_1', 'date_target_enc_lag_2',\n",
       "       'date_target_enc_lag_3', 'date_target_enc_lag_6',\n",
       "       'date_target_enc_lag_12', 'date_item_city_target_enc_lag_1',\n",
       "       'date_item_city_target_enc_lag_2', 'date_item_city_target_enc_lag_3',\n",
       "       'date_item_city_target_enc_lag_6', 'date_item_city_target_enc_lag_12',\n",
       "       'item_first_sale', 'shop_item_first_sale', 'item_cnt_1_month_past_sum',\n",
       "       'item_cnt_2_month_past_sum', 'item_cnt_3_month_past_sum',\n",
       "       'item_cnt_6_month_past_sum', 'item_cnt_12_month_past_sum'],\n",
       "      dtype='object')"
      ]
     },
     "execution_count": 65,
     "metadata": {},
     "output_type": "execute_result"
    }
   ],
   "source": [
    "train_test_set.columns"
   ]
  },
  {
   "cell_type": "code",
   "execution_count": 66,
   "metadata": {
    "_uuid": "fcb58a996d29a79803bbcd8b6a2d4c9fc69a51f6"
   },
   "outputs": [],
   "source": [
    "train_test_set = downcast_dtypes(train_test_set)"
   ]
  },
  {
   "cell_type": "code",
   "execution_count": 67,
   "metadata": {
    "_uuid": "330179232832d263d9591cccba013b8d10e970b1"
   },
   "outputs": [],
   "source": [
    "import pickle\n",
    "train_test_set.to_pickle('train_test_set.pkl')"
   ]
  },
  {
   "cell_type": "code",
   "execution_count": 68,
   "metadata": {
    "_uuid": "279d0762cfc6c440c6b512b56c2a96a5bd5fb30b"
   },
   "outputs": [
    {
     "data": {
      "text/plain": [
       "85"
      ]
     },
     "execution_count": 68,
     "metadata": {},
     "output_type": "execute_result"
    }
   ],
   "source": [
    "del train_test_set\n",
    "del shops\n",
    "del items\n",
    "del item_categories\n",
    "del sales_train\n",
    "del item_prices\n",
    "del item_prices_cat\n",
    "del sales_monthly\n",
    "del group\n",
    "\n",
    "gc.collect()"
   ]
  },
  {
   "cell_type": "code",
   "execution_count": 69,
   "metadata": {
    "_uuid": "85b76101914988868f84ed8e05becc34247456b3"
   },
   "outputs": [],
   "source": [
    "train_test_set = pd.read_pickle('train_test_set.pkl')"
   ]
  },
  {
   "cell_type": "markdown",
   "metadata": {
    "_uuid": "45b4154439e2ee61ac81d9017d58507933453ed4"
   },
   "source": [
    "## 4. Train Section\n",
    "I referred to the public kernel hyperparameter. I adjusted some parts manually.\n",
    "\n",
    "- Validation Strategy : It is time-series data, random train_test_split can not be used. Therefore, one month before prediction use for validation set. I mean\n",
    "    - train set : date_block_num < 32\n",
    "    - valid_set :  date_block_num == 33\n",
    "    - test_set : date_block_num == 34\n",
    "    \n",
    " \n",
    "- Training\n",
    "     - **Model 1 LightGBM** : literally very light, so Model can train with all the features.\n",
    "     - **Molde 2 LinerRegression** : I hope to capture the linear relationship that Tree Base Molde can not catch.\n",
    "     - **Model 3 XGboost** : XGboost use very much memory, we can not use all features. We will use Top 30 features used in Model 1. This is thought to bring a kind of diversity\n",
    "\n",
    "\n",
    "- Brending : \n",
    "I did not have enough time to do the stacking. Therefore, heuristically weigh each prediction and make it the final result. "
   ]
  },
  {
   "cell_type": "code",
   "execution_count": 70,
   "metadata": {
    "_uuid": "e98ad5edcaa4e1fbd7df66a267fb5235f380a6ba"
   },
   "outputs": [],
   "source": [
    "train_set = train_test_set.query('date_block_num <= 32').copy()\n",
    "valid_set = train_test_set.query('date_block_num == 33').copy()\n",
    "test_set = train_test_set.query('date_block_num == 34').copy()"
   ]
  },
  {
   "cell_type": "code",
   "execution_count": 71,
   "metadata": {
    "_uuid": "e5577635c9457b7228130c3e7dcf3067f8d5b805"
   },
   "outputs": [
    {
     "name": "stdout",
     "output_type": "stream",
     "text": [
      "train_set (6186874, 60)\n",
      "valid_set (238172, 60)\n",
      "test_set (214200, 60)\n"
     ]
    }
   ],
   "source": [
    "print('train_set', train_set.shape)\n",
    "print('valid_set', valid_set.shape)\n",
    "print('test_set',test_set.shape)"
   ]
  },
  {
   "cell_type": "code",
   "execution_count": 72,
   "metadata": {
    "_uuid": "6c062a10e8be4290b23bcc86042f828e1d3a8ff9"
   },
   "outputs": [],
   "source": [
    "X_train = train_set.drop('item_cnt_month', axis=1)\n",
    "y_train = train_set['item_cnt_month'].values\n",
    "X_valid = valid_set.drop('item_cnt_month', axis=1)\n",
    "y_valid = valid_set['item_cnt_month'].values\n",
    "X_test = test_set.drop('item_cnt_month', axis=1)"
   ]
  },
  {
   "cell_type": "code",
   "execution_count": 73,
   "metadata": {
    "_uuid": "f6da058f9eb4b1bef7535b7600955f7f872a2e3a"
   },
   "outputs": [
    {
     "data": {
      "text/plain": [
       "7"
      ]
     },
     "execution_count": 73,
     "metadata": {},
     "output_type": "execute_result"
    }
   ],
   "source": [
    "del train_test_set\n",
    "gc.collect()"
   ]
  },
  {
   "cell_type": "markdown",
   "metadata": {
    "_uuid": "3e0999d4472082e4b800472546c744cdd3095512"
   },
   "source": [
    "******\n",
    "LightGBM"
   ]
  },
  {
   "cell_type": "code",
   "execution_count": 74,
   "metadata": {
    "_uuid": "6796b8b567110a55838003dd12b0982a92c18a15"
   },
   "outputs": [],
   "source": [
    "train_data = lgb.Dataset(X_train, label=y_train)\n",
    "eval_data = lgb.Dataset(X_valid, label=y_valid, reference= train_data)"
   ]
  },
  {
   "cell_type": "code",
   "execution_count": 75,
   "metadata": {
    "_uuid": "e78bd561230d25d86cad601c2d9c5962c048addf"
   },
   "outputs": [],
   "source": [
    "lgb_params = {\n",
    "    'max_dapth':8,\n",
    "    'min_data_in_leaf':300,\n",
    "    'num_leaves': 2**7,\n",
    "    'feature_fraction':0.7,\n",
    "    'bagging_fraction':0.7,\n",
    "    'learning_rate': 0.1,\n",
    "    'objective': 'rmse',\n",
    "}"
   ]
  },
  {
   "cell_type": "code",
   "execution_count": 76,
   "metadata": {
    "_uuid": "e2deb36e1619a077004413d73c3b9de21ce1b7c8"
   },
   "outputs": [
    {
     "name": "stdout",
     "output_type": "stream",
     "text": [
      "Training until validation scores don't improve for 10 rounds.\n",
      "[5]\tvalid_0's rmse: 0.994584\n",
      "[10]\tvalid_0's rmse: 0.939876\n",
      "[15]\tvalid_0's rmse: 0.92273\n",
      "[20]\tvalid_0's rmse: 0.913371\n",
      "[25]\tvalid_0's rmse: 0.911036\n",
      "[30]\tvalid_0's rmse: 0.909449\n",
      "[35]\tvalid_0's rmse: 0.907855\n",
      "[40]\tvalid_0's rmse: 0.90749\n",
      "Early stopping, best iteration is:\n",
      "[32]\tvalid_0's rmse: 0.906849\n"
     ]
    }
   ],
   "source": [
    "lgb_reg = lgb.train(\n",
    "    params = lgb_params,\n",
    "    train_set=train_data,\n",
    "    valid_sets=eval_data,\n",
    "    early_stopping_rounds=10,\n",
    "    num_boost_round=100,\n",
    "    verbose_eval=5,\n",
    ")"
   ]
  },
  {
   "cell_type": "code",
   "execution_count": 77,
   "metadata": {
    "_uuid": "1ebea653677ea479343212809f34ee10a2b1777b"
   },
   "outputs": [],
   "source": [
    "importances = pd.DataFrame(lgb_reg.feature_importance(), index=X_train.columns, columns=['importance'])\n",
    "importances = importances.sort_values('importance', ascending=False)"
   ]
  },
  {
   "cell_type": "code",
   "execution_count": 78,
   "metadata": {
    "_uuid": "53796bde53d3a842888bf0256515baa07ed4e220"
   },
   "outputs": [
    {
     "data": {
      "text/plain": [
       "<matplotlib.axes._subplots.AxesSubplot at 0x7fe8c6d36710>"
      ]
     },
     "execution_count": 78,
     "metadata": {},
     "output_type": "execute_result"
    },
    {
     "data": {
      "image/png": "[encoded data removed]",
      "text/plain": [
       "<Figure size 720x720 with 1 Axes>"
      ]
     },
     "metadata": {},
     "output_type": "display_data"
    }
   ],
   "source": [
    "plt.figure(figsize=(10, 10))\n",
    "sns.barplot(x='importance', y=importances.index, data=importances)"
   ]
  },
  {
   "cell_type": "code",
   "execution_count": 79,
   "metadata": {
    "_uuid": "b0eab2d62371802677aab4f11be7df7b0d5394e6"
   },
   "outputs": [],
   "source": [
    "y_pred_lgb = lgb_reg.predict(X_test)"
   ]
  },
  {
   "cell_type": "code",
   "execution_count": 80,
   "metadata": {
    "_uuid": "6a2c8a4409883bedcfdf94191c3a88ff5c7606e6"
   },
   "outputs": [],
   "source": [
    "pickle.dump(lgb_reg, open('lgb_reg.pickle', 'wb'))"
   ]
  },
  {
   "cell_type": "markdown",
   "metadata": {
    "_uuid": "f7aecccd48cead3a3bc1ce48dd7dd76afb00baa9"
   },
   "source": [
    "******\n",
    "LinerModel"
   ]
  },
  {
   "cell_type": "code",
   "execution_count": 81,
   "metadata": {
    "_uuid": "503d28998b509f6c786ad240ebb72aa26dcef62a"
   },
   "outputs": [
    {
     "data": {
      "text/plain": [
       "LinearRegression(copy_X=True, fit_intercept=True, n_jobs=None,\n",
       "         normalize=False)"
      ]
     },
     "execution_count": 81,
     "metadata": {},
     "output_type": "execute_result"
    }
   ],
   "source": [
    "lr_reg = LinearRegression()\n",
    "lr_reg.fit(X_train, y_train)"
   ]
  },
  {
   "cell_type": "code",
   "execution_count": 82,
   "metadata": {
    "_uuid": "62ec3f767b71421d7d15789929785d91f411f465"
   },
   "outputs": [],
   "source": [
    "y_pred_lr = lr_reg.predict(X_test)\n",
    "y_pred_lr_val = lr_reg.predict(X_valid)"
   ]
  },
  {
   "cell_type": "code",
   "execution_count": 83,
   "metadata": {
    "_uuid": "fc4deec2bd34b1573a7e17d74a4fc48e64a3de06"
   },
   "outputs": [
    {
     "name": "stdout",
     "output_type": "stream",
     "text": [
      "0.96693116\n"
     ]
    }
   ],
   "source": [
    "print(rmse(y_valid, y_pred_lr_val))"
   ]
  },
  {
   "cell_type": "markdown",
   "metadata": {
    "_uuid": "eddcdc43c2cea69af553e83633a6f6e75cbd3aa7"
   },
   "source": [
    "******\n",
    "XGBoost"
   ]
  },
  {
   "cell_type": "code",
   "execution_count": 84,
   "metadata": {
    "_uuid": "4ff1453d113c452ac37cea4f085e6638e1ec063e"
   },
   "outputs": [],
   "source": [
    "useful_col_top30 = importances.index.tolist()[:30]"
   ]
  },
  {
   "cell_type": "code",
   "execution_count": 85,
   "metadata": {
    "_uuid": "01020cc2431d4c64df2c9c3c9ec679baedd213db"
   },
   "outputs": [],
   "source": [
    "X_train = X_train[useful_col_top30]\n",
    "X_valid = X_valid[useful_col_top30]\n",
    "X_test = X_test[useful_col_top30]"
   ]
  },
  {
   "cell_type": "code",
   "execution_count": 86,
   "metadata": {
    "_uuid": "42c16b7e0f6587f409c59334eed1bb8ae9f063f2"
   },
   "outputs": [
    {
     "name": "stdout",
     "output_type": "stream",
     "text": [
      "[05:04:43] Tree method is automatically selected to be 'approx' for faster speed. To use old behavior (exact greedy algorithm on single machine), set tree_method to 'exact'.\n",
      "[0]\tvalidation_0-rmse:1.1501\tvalidation_1-rmse:1.11631\n",
      "Multiple eval metrics have been passed: 'validation_1-rmse' will be used for early stopping.\n",
      "\n",
      "Will train until validation_1-rmse hasn't improved in 10 rounds.\n",
      "[1]\tvalidation_0-rmse:1.10195\tvalidation_1-rmse:1.08082\n",
      "[2]\tvalidation_0-rmse:1.0634\tvalidation_1-rmse:1.05312\n",
      "[3]\tvalidation_0-rmse:1.02796\tvalidation_1-rmse:1.02796\n",
      "[4]\tvalidation_0-rmse:0.99771\tvalidation_1-rmse:1.00574\n",
      "[5]\tvalidation_0-rmse:0.972297\tvalidation_1-rmse:0.988106\n",
      "[6]\tvalidation_0-rmse:0.950703\tvalidation_1-rmse:0.973526\n",
      "[7]\tvalidation_0-rmse:0.932237\tvalidation_1-rmse:0.961183\n",
      "[8]\tvalidation_0-rmse:0.91773\tvalidation_1-rmse:0.952344\n",
      "[9]\tvalidation_0-rmse:0.905339\tvalidation_1-rmse:0.945115\n",
      "[10]\tvalidation_0-rmse:0.89425\tvalidation_1-rmse:0.939533\n",
      "[11]\tvalidation_0-rmse:0.88515\tvalidation_1-rmse:0.934559\n",
      "[12]\tvalidation_0-rmse:0.876579\tvalidation_1-rmse:0.930556\n",
      "[13]\tvalidation_0-rmse:0.86885\tvalidation_1-rmse:0.927532\n",
      "[14]\tvalidation_0-rmse:0.862681\tvalidation_1-rmse:0.924788\n",
      "[15]\tvalidation_0-rmse:0.857362\tvalidation_1-rmse:0.921412\n",
      "[16]\tvalidation_0-rmse:0.852094\tvalidation_1-rmse:0.919331\n",
      "[17]\tvalidation_0-rmse:0.847993\tvalidation_1-rmse:0.917715\n",
      "[18]\tvalidation_0-rmse:0.844513\tvalidation_1-rmse:0.916054\n",
      "[19]\tvalidation_0-rmse:0.841277\tvalidation_1-rmse:0.915657\n",
      "[20]\tvalidation_0-rmse:0.838432\tvalidation_1-rmse:0.91432\n",
      "[21]\tvalidation_0-rmse:0.835859\tvalidation_1-rmse:0.912966\n",
      "[22]\tvalidation_0-rmse:0.833103\tvalidation_1-rmse:0.911517\n",
      "[23]\tvalidation_0-rmse:0.831129\tvalidation_1-rmse:0.910842\n",
      "[24]\tvalidation_0-rmse:0.82947\tvalidation_1-rmse:0.910852\n",
      "[25]\tvalidation_0-rmse:0.827896\tvalidation_1-rmse:0.910676\n",
      "[26]\tvalidation_0-rmse:0.826338\tvalidation_1-rmse:0.910539\n",
      "[27]\tvalidation_0-rmse:0.824728\tvalidation_1-rmse:0.909526\n",
      "[28]\tvalidation_0-rmse:0.823293\tvalidation_1-rmse:0.909668\n",
      "[29]\tvalidation_0-rmse:0.822104\tvalidation_1-rmse:0.909316\n",
      "[30]\tvalidation_0-rmse:0.821031\tvalidation_1-rmse:0.909499\n",
      "[31]\tvalidation_0-rmse:0.819955\tvalidation_1-rmse:0.909648\n",
      "[32]\tvalidation_0-rmse:0.81868\tvalidation_1-rmse:0.907968\n",
      "[33]\tvalidation_0-rmse:0.817462\tvalidation_1-rmse:0.907113\n",
      "[34]\tvalidation_0-rmse:0.816218\tvalidation_1-rmse:0.905855\n",
      "[35]\tvalidation_0-rmse:0.815438\tvalidation_1-rmse:0.905274\n",
      "[36]\tvalidation_0-rmse:0.814262\tvalidation_1-rmse:0.906299\n",
      "[37]\tvalidation_0-rmse:0.813398\tvalidation_1-rmse:0.906873\n",
      "[38]\tvalidation_0-rmse:0.8129\tvalidation_1-rmse:0.9067\n",
      "[39]\tvalidation_0-rmse:0.812182\tvalidation_1-rmse:0.905957\n",
      "[40]\tvalidation_0-rmse:0.811156\tvalidation_1-rmse:0.905255\n",
      "[41]\tvalidation_0-rmse:0.810394\tvalidation_1-rmse:0.905458\n",
      "[42]\tvalidation_0-rmse:0.808942\tvalidation_1-rmse:0.905733\n",
      "[43]\tvalidation_0-rmse:0.808418\tvalidation_1-rmse:0.90577\n",
      "[44]\tvalidation_0-rmse:0.807621\tvalidation_1-rmse:0.905794\n",
      "[45]\tvalidation_0-rmse:0.806954\tvalidation_1-rmse:0.904522\n",
      "[46]\tvalidation_0-rmse:0.806633\tvalidation_1-rmse:0.904605\n",
      "[47]\tvalidation_0-rmse:0.806041\tvalidation_1-rmse:0.90424\n",
      "[48]\tvalidation_0-rmse:0.805312\tvalidation_1-rmse:0.904829\n",
      "[49]\tvalidation_0-rmse:0.804751\tvalidation_1-rmse:0.904526\n",
      "[50]\tvalidation_0-rmse:0.804088\tvalidation_1-rmse:0.904892\n",
      "[51]\tvalidation_0-rmse:0.803526\tvalidation_1-rmse:0.904689\n",
      "[52]\tvalidation_0-rmse:0.803064\tvalidation_1-rmse:0.904921\n",
      "[53]\tvalidation_0-rmse:0.802732\tvalidation_1-rmse:0.905106\n",
      "[54]\tvalidation_0-rmse:0.802293\tvalidation_1-rmse:0.905508\n",
      "[55]\tvalidation_0-rmse:0.801989\tvalidation_1-rmse:0.905563\n",
      "[56]\tvalidation_0-rmse:0.801529\tvalidation_1-rmse:0.90529\n",
      "[57]\tvalidation_0-rmse:0.801149\tvalidation_1-rmse:0.905306\n",
      "Stopping. Best iteration:\n",
      "[47]\tvalidation_0-rmse:0.806041\tvalidation_1-rmse:0.90424\n",
      "\n"
     ]
    },
    {
     "data": {
      "text/plain": [
       "XGBRegressor(base_score=0.5, booster='gbtree', colsample_bylevel=1,\n",
       "       colsample_bytree=0.8, eta=0.3, gamma=0, learning_rate=0.1,\n",
       "       max_delta_step=0, max_depth=8, min_child_weight=300, missing=None,\n",
       "       n_estimators=1000, n_jobs=1, nthread=None, objective='reg:linear',\n",
       "       random_state=0, reg_alpha=0, reg_lambda=1, scale_pos_weight=1,\n",
       "       seed=None, silent=True, subsample=0.8)"
      ]
     },
     "execution_count": 86,
     "metadata": {},
     "output_type": "execute_result"
    }
   ],
   "source": [
    "xgb_reg = XGBRegressor(\n",
    "    max_depth=8,\n",
    "    n_estimators=1000,\n",
    "    min_child_weight=300, \n",
    "    colsample_bytree=0.8, \n",
    "    subsample=0.8, \n",
    "    eta=0.3\n",
    ")\n",
    "\n",
    "xgb_reg.fit(\n",
    "    X_train,y_train,\n",
    "    eval_metric='rmse',\n",
    "    eval_set=[(X_train, y_train),(X_valid, y_valid)],\n",
    "    verbose=1,\n",
    "    early_stopping_rounds=10\n",
    ")"
   ]
  },
  {
   "cell_type": "code",
   "execution_count": 87,
   "metadata": {
    "_uuid": "e1b5622b331c25e4af3fb3cc91c297f1216e9654"
   },
   "outputs": [],
   "source": [
    "y_pred_xgb = xgb_reg.predict(X_test)"
   ]
  },
  {
   "cell_type": "code",
   "execution_count": 88,
   "metadata": {
    "_uuid": "c3cca413fdb2945d812b538a1447fc3893ecddfa"
   },
   "outputs": [],
   "source": [
    "y_pred = (y_pred_xgb * 0.45  + y_pred_lgb * 0.45 + y_pred_lr * 0.1)"
   ]
  },
  {
   "cell_type": "code",
   "execution_count": 89,
   "metadata": {
    "_uuid": "fefdeb2e8f6798f7b08532d3ab9fbe540dd40473"
   },
   "outputs": [
    {
     "name": "stdout",
     "output_type": "stream",
     "text": [
      "0.23895656470351276\n",
      "19.387081642401398\n"
     ]
    }
   ],
   "source": [
    "print(y_pred.mean())\n",
    "print(y_pred.max())"
   ]
  },
  {
   "cell_type": "code",
   "execution_count": 90,
   "metadata": {
    "_uuid": "bdb57b1a36306c21299f702c6ef2ab9bf9bb101d"
   },
   "outputs": [],
   "source": [
    "submission = pd.DataFrame({\n",
    "    'ID':test.index,\n",
    "    'item_cnt_month':y_pred.clip(0, 20)\n",
    "})"
   ]
  },
  {
   "cell_type": "code",
   "execution_count": 91,
   "metadata": {
    "_uuid": "41a45f14305c70fc90906b150fb98a4d6b7d1177"
   },
   "outputs": [
    {
     "data": {
      "text/html": [
       "<div>\n",
       "<style scoped>\n",
       "    .dataframe tbody tr th:only-of-type {\n",
       "        vertical-align: middle;\n",
       "    }\n",
       "\n",
       "    .dataframe tbody tr th {\n",
       "        vertical-align: top;\n",
       "    }\n",
       "\n",
       "    .dataframe thead th {\n",
       "        text-align: right;\n",
       "    }\n",
       "</style>\n",
       "<table border=\"1\" class=\"dataframe\">\n",
       "  <thead>\n",
       "    <tr style=\"text-align: right;\">\n",
       "      <th></th>\n",
       "      <th>ID</th>\n",
       "      <th>item_cnt_month</th>\n",
       "    </tr>\n",
       "  </thead>\n",
       "  <tbody>\n",
       "    <tr>\n",
       "      <th>0</th>\n",
       "      <td>0</td>\n",
       "      <td>0.513589</td>\n",
       "    </tr>\n",
       "    <tr>\n",
       "      <th>1</th>\n",
       "      <td>1</td>\n",
       "      <td>0.255622</td>\n",
       "    </tr>\n",
       "    <tr>\n",
       "      <th>2</th>\n",
       "      <td>2</td>\n",
       "      <td>0.726020</td>\n",
       "    </tr>\n",
       "    <tr>\n",
       "      <th>3</th>\n",
       "      <td>3</td>\n",
       "      <td>0.223770</td>\n",
       "    </tr>\n",
       "    <tr>\n",
       "      <th>4</th>\n",
       "      <td>4</td>\n",
       "      <td>3.299327</td>\n",
       "    </tr>\n",
       "  </tbody>\n",
       "</table>\n",
       "</div>"
      ],
      "text/plain": [
       "   ID  item_cnt_month\n",
       "0   0        0.513589\n",
       "1   1        0.255622\n",
       "2   2        0.726020\n",
       "3   3        0.223770\n",
       "4   4        3.299327"
      ]
     },
     "execution_count": 91,
     "metadata": {},
     "output_type": "execute_result"
    }
   ],
   "source": [
    "submission.head()"
   ]
  },
  {
   "cell_type": "code",
   "execution_count": 92,
   "metadata": {
    "_uuid": "80fe86fb75e6ebb853e677e764e7393d7a482efe"
   },
   "outputs": [],
   "source": [
    "submission.to_csv('submission.csv', index=False)"
   ]
  },
  {
   "cell_type": "markdown",
   "metadata": {},
   "source": [
    "# 5. Conclusion\n",
    "LightGBM single model has score 0.97387. Blending model has score 0.94676. I got an improvement of 0.27 with Blending.  \n",
    "I added various feature quantities, but I could not beat the best public Kenerl (Public socre 0.908...)  \n",
    "\n",
    "\n",
    "**After all I think FeatureEngineering is most important!!!!**\n",
    "\n",
    "Thank you for reading to the end.\n",
    "The final task was very challenging, but I had fun.\n",
    "Thank you for your evaluation in order to pass the assignment"
   ]
  }
 ],
 "metadata": {
  "kernelspec": {
   "display_name": "Python 3",
   "language": "python",
   "name": "python3"
  },
  "language_info": {
   "codemirror_mode": {
    "name": "ipython",
    "version": 3
   },
   "file_extension": ".py",
   "mimetype": "text/x-python",
   "name": "python",
   "nbconvert_exporter": "python",
   "pygments_lexer": "ipython3",
   "version": "3.6.8"
  }
 },
 "nbformat": 4,
 "nbformat_minor": 1
}
